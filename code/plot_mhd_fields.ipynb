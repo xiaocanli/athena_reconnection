{
 "cells": [
  {
   "cell_type": "code",
   "execution_count": 1,
   "id": "c2b018f7-d857-4c30-9e13-2cf72cc3b076",
   "metadata": {},
   "outputs": [],
   "source": [
    "import argparse\n",
    "import errno\n",
    "import os\n",
    "\n",
    "import sys\n",
    "sys.path.insert(0, '/global/homes/x/xiaocan/mhd/athena/vis/python')\n",
    "import athena_read\n",
    "\n",
    "import matplotlib as mpl\n",
    "import matplotlib.pyplot as plt\n",
    "import numpy as np\n",
    "from matplotlib import rc\n",
    "from matplotlib.colors import LogNorm\n",
    "\n",
    "plt.rcParams['figure.dpi'] = 100\n",
    "\n",
    "# rc('font',**{'family':'sans-serif','sans-serif':['Helvetica']})\n",
    "# for Palatino and other serif fonts use:\n",
    "rc('font',**{'family':'serif','serif':['Palatino']})\n",
    "rc('text', usetex=True)\n",
    "mpl.rcParams['text.latex.preamble'] = r\"\\usepackage{amsmath}\""
   ]
  },
  {
   "cell_type": "code",
   "execution_count": 2,
   "id": "92efb4ba-8b3f-4fee-98cf-1458049d79e6",
   "metadata": {},
   "outputs": [],
   "source": [
    "def mkdir_p(path):\n",
    "    \"\"\"Create directory recursively\n",
    "    \"\"\"\n",
    "    try:\n",
    "        os.makedirs(path)\n",
    "    except OSError as exc:  # Python >2.5\n",
    "        if exc.errno == errno.EEXIST and os.path.isdir(path):\n",
    "            pass\n",
    "        else:\n",
    "            raise"
   ]
  },
  {
   "cell_type": "code",
   "execution_count": 3,
   "id": "b16b05e0-f0fb-4fd6-919e-a271ec2eeb4c",
   "metadata": {},
   "outputs": [],
   "source": [
    "def get_mhd_config(mhd_run_dir, config_name):\n",
    "    \"\"\"Get MHD run information from the configuration file\n",
    "\n",
    "    Arguments:\n",
    "        mhd_run_dir (string): MHD run directory\n",
    "        config_name (string): MHD simulation configuration file name\n",
    "    \"\"\"\n",
    "    with open(mhd_run_dir + \"/\" + config_name) as f:\n",
    "        contents = f.readlines()\n",
    "    f.close()\n",
    "    mhd_config = {}\n",
    "    for line in contents:\n",
    "        if \"<\" in line and \">\" in line and \"<\" == line[0]:\n",
    "            block_name = line[1:line.find(\">\")]\n",
    "            mhd_config[block_name] = {}\n",
    "        else:\n",
    "            if line[0] != \"#\" and \"=\" in line:\n",
    "                line_splits = line.split(\"=\")\n",
    "                tail = line_splits[1].split(\"\\n\")\n",
    "                data = tail[0].split(\"#\")\n",
    "                ltmp = line_splits[0].strip()\n",
    "                try:\n",
    "                    mhd_config[block_name][ltmp] = float(data[0])\n",
    "                except ValueError:\n",
    "                    mhd_config[block_name][ltmp] = data[0].strip()\n",
    "    return mhd_config"
   ]
  },
  {
   "cell_type": "code",
   "execution_count": 4,
   "id": "65e76cac-f54e-4279-b4c6-fa9e6236c7c4",
   "metadata": {},
   "outputs": [],
   "source": [
    "def plot_jz(mhd_config, tframe, show_plot=False):\n",
    "    \"\"\"Plot the z-component of the current density\n",
    "    \"\"\"\n",
    "    run_name = mhd_config[\"run_name\"]\n",
    "    run_dir = mhd_config[\"run_dir\"]\n",
    "    output_type = \"reconnection.prim\"\n",
    "    fname = run_dir + output_type + \".\" + str(tframe).zfill(5) + \".athdf\"\n",
    "    fdata = athena_read.athdf(fname)\n",
    "    dxm = fdata[\"x1f\"][1] - fdata[\"x1f\"][0]\n",
    "    dym = fdata[\"x2f\"][1] - fdata[\"x2f\"][0]\n",
    "    bx = fdata['Bcc1'][0]\n",
    "    by = fdata['Bcc2'][0]\n",
    "    jz = np.gradient(by, dxm, axis=1) - np.gradient(bx, dym, axis=0)\n",
    "    \n",
    "    xmin = mhd_config[\"mesh\"][\"x1min\"]\n",
    "    xmax = mhd_config[\"mesh\"][\"x1max\"]\n",
    "    ymin = mhd_config[\"mesh\"][\"x2min\"]\n",
    "    ymax = mhd_config[\"mesh\"][\"x2max\"]\n",
    "    sizes = [xmin, xmax, ymin, ymax]\n",
    "    fig = plt.figure(figsize=[4.5, 4])\n",
    "    rect = [0.11, 0.12, 0.7, 0.8]\n",
    "    ax = fig.add_axes(rect)\n",
    "    img = ax.imshow(jz, extent=sizes, cmap=plt.cm.seismic,\n",
    "                    vmin=-200, vmax=200,\n",
    "                    aspect='auto', origin='lower')\n",
    "    rect[0] += rect[2] + 0.02\n",
    "    rect[2] = 0.03\n",
    "    cbar_ax = fig.add_axes(rect)\n",
    "    cbar = fig.colorbar(img, cax=cbar_ax, extend='both')\n",
    "    ax.tick_params(labelsize=8)\n",
    "    cbar.ax.tick_params(labelsize=8)\n",
    "    ax.set_xlabel(r'$x$', fontsize=10)\n",
    "    ax.set_ylabel(r'$y$', fontsize=10)\n",
    "    cbar.ax.set_ylabel(r'$j_z$', fontsize=10)\n",
    "    dt_out = mhd_config[\"output1\"][\"dt\"]\n",
    "    tva = dt_out * tframe / (ymax - ymin)\n",
    "    title = r'$t = ' + \"{:10.2f}\".format(tva) + r'\\tau_A$'\n",
    "    title += ' (frame: %d)' % tframe\n",
    "    fig.suptitle(title, fontsize=10)\n",
    "    img_path = 'img/jz/'\n",
    "    mkdir_p(img_path)\n",
    "    plt.savefig(img_path + 'jz_' + str(tframe) + '.pdf', dpi=200)\n",
    "    if not show_plot:\n",
    "        plt.close()"
   ]
  },
  {
   "cell_type": "code",
   "execution_count": 5,
   "id": "d18bf166-29bc-4c7f-9251-4ccae003dad5",
   "metadata": {},
   "outputs": [
    {
     "data": {
      "image/png": "[encoded data removed]",
      "text/plain": [
       "<Figure size 450x400 with 2 Axes>"
      ]
     },
     "metadata": {
      "needs_background": "light"
     },
     "output_type": "display_data"
    }
   ],
   "source": [
    "mhd_run_name = \"athena_reconnection_test\"\n",
    "mhd_run_dir = \"/global/cscratch1/sd/xiaocan/athena_reconnection_test/\"\n",
    "mhd_config = get_mhd_config(mhd_run_dir, \"athinput.reconnection\")\n",
    "mhd_config[\"run_name\"] = mhd_run_name\n",
    "mhd_config[\"run_dir\"] = mhd_run_dir\n",
    "plot_jz(mhd_config, 100, show_plot=True)"
   ]
  },
  {
   "cell_type": "code",
   "execution_count": null,
   "id": "6f8a33a4-4e3f-458a-9d72-6e303bf71437",
   "metadata": {},
   "outputs": [],
   "source": []
  }
 ],
 "metadata": {
  "kernelspec": {
   "display_name": "MyEnv",
   "language": "python",
   "name": "myenv"
  },
  "language_info": {
   "codemirror_mode": {
    "name": "ipython",
    "version": 3
   },
   "file_extension": ".py",
   "mimetype": "text/x-python",
   "name": "python",
   "nbconvert_exporter": "python",
   "pygments_lexer": "ipython3",
   "version": "3.9.7"
  }
 },
 "nbformat": 4,
 "nbformat_minor": 5
}
